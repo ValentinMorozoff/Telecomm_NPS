{
 "cells": [
  {
   "cell_type": "markdown",
   "id": "1baeced2",
   "metadata": {},
   "source": [
    "# Текущий уровень потребительской лояльности (Net Promoter Score)"
   ]
  },
  {
   "cell_type": "markdown",
   "id": "d429c776",
   "metadata": {},
   "source": [
    "Заказчик настоящего исследования — телекоммуникационная компания, которая оказывает услуги на территории всего СНГ. \n",
    "\n",
    "Перед компанией стоит задача определить текущий уровень потребительской лояльности, среди клиентов из России.\n",
    "Чтобы определить уровень лояльности, клиентам задавали вопрос: «Оцените по шкале от 1 до 10 вероятность того, что вы порекомендуете компанию друзьям и знакомым».\n",
    "\n",
    "Данные по проведенному опрсу выгружены в SQLite.\n",
    "\n",
    "Респонденты разделены на три группы, в зависимости от поставленной оценки:\n",
    "9-10 баллов — «cторонники» (promoters);\n",
    "7-8 баллов — «нейтралы» (passives);\n",
    "0-6 баллов — «критики» (detractors).\n",
    "\n",
    "Итоговое значение NPS рассчитывается по формуле: % «сторонников» - % «критиков».\n",
    "\n",
    "Таким образом, значение этого показателя варьируется от -100% (когда все клиенты «критики») до 100% (когда все клиенты лояльны к сервису)."
   ]
  },
  {
   "cell_type": "code",
   "execution_count": 15,
   "id": "b08a44cc",
   "metadata": {
    "tags": [
     "aa81075c-062f-4de0-b5fe-14c73dc7468e"
    ]
   },
   "outputs": [],
   "source": [
    "import pandas as pd\n",
    "import numpy as np\n",
    "\n",
    "from sqlalchemy import create_engine"
   ]
  },
  {
   "cell_type": "code",
   "execution_count": 16,
   "id": "c8c104e0",
   "metadata": {},
   "outputs": [],
   "source": [
    "path_to_db = 'telecomm_csi.db'\n",
    "engine = create_engine(f'sqlite:///{path_to_db}', echo = False)"
   ]
  },
  {
   "cell_type": "markdown",
   "id": "4455ef86",
   "metadata": {},
   "source": [
    "Подготовка данных для дашборда. \n",
    "\n",
    "Данные собраны и преобразованы в единую витрину на языке SQL-запросов."
   ]
  },
  {
   "cell_type": "code",
   "execution_count": 17,
   "id": "be1d8d45",
   "metadata": {},
   "outputs": [],
   "source": [
    "query = \"\"\"\n",
    "SELECT * FROM user;\n",
    "\"\"\""
   ]
  },
  {
   "cell_type": "code",
   "execution_count": 18,
   "id": "ebae71ac",
   "metadata": {
    "scrolled": true
   },
   "outputs": [
    {
     "data": {
      "text/html": [
       "<div>\n",
       "<style scoped>\n",
       "    .dataframe tbody tr th:only-of-type {\n",
       "        vertical-align: middle;\n",
       "    }\n",
       "\n",
       "    .dataframe tbody tr th {\n",
       "        vertical-align: top;\n",
       "    }\n",
       "\n",
       "    .dataframe thead th {\n",
       "        text-align: right;\n",
       "    }\n",
       "</style>\n",
       "<table border=\"1\" class=\"dataframe\">\n",
       "  <thead>\n",
       "    <tr style=\"text-align: right;\">\n",
       "      <th></th>\n",
       "      <th>user_id</th>\n",
       "      <th>lt_day</th>\n",
       "      <th>age</th>\n",
       "      <th>gender_segment</th>\n",
       "      <th>os_name</th>\n",
       "      <th>cpe_type_name</th>\n",
       "      <th>location_id</th>\n",
       "      <th>age_gr_id</th>\n",
       "      <th>tr_gr_id</th>\n",
       "      <th>lt_gr_id</th>\n",
       "      <th>nps_score</th>\n",
       "    </tr>\n",
       "  </thead>\n",
       "  <tbody>\n",
       "    <tr>\n",
       "      <th>0</th>\n",
       "      <td>A001A2</td>\n",
       "      <td>2320</td>\n",
       "      <td>45.0</td>\n",
       "      <td>1.0</td>\n",
       "      <td>ANDROID</td>\n",
       "      <td>SMARTPHONE</td>\n",
       "      <td>55</td>\n",
       "      <td>5</td>\n",
       "      <td>5</td>\n",
       "      <td>8</td>\n",
       "      <td>10</td>\n",
       "    </tr>\n",
       "    <tr>\n",
       "      <th>1</th>\n",
       "      <td>A001WF</td>\n",
       "      <td>2344</td>\n",
       "      <td>53.0</td>\n",
       "      <td>0.0</td>\n",
       "      <td>ANDROID</td>\n",
       "      <td>SMARTPHONE</td>\n",
       "      <td>21</td>\n",
       "      <td>5</td>\n",
       "      <td>5</td>\n",
       "      <td>8</td>\n",
       "      <td>10</td>\n",
       "    </tr>\n",
       "    <tr>\n",
       "      <th>2</th>\n",
       "      <td>A003Q7</td>\n",
       "      <td>467</td>\n",
       "      <td>57.0</td>\n",
       "      <td>0.0</td>\n",
       "      <td>ANDROID</td>\n",
       "      <td>SMARTPHONE</td>\n",
       "      <td>28</td>\n",
       "      <td>6</td>\n",
       "      <td>9</td>\n",
       "      <td>6</td>\n",
       "      <td>10</td>\n",
       "    </tr>\n",
       "  </tbody>\n",
       "</table>\n",
       "</div>"
      ],
      "text/plain": [
       "  user_id  lt_day   age  gender_segment  os_name cpe_type_name  location_id  \\\n",
       "0  A001A2    2320  45.0             1.0  ANDROID    SMARTPHONE           55   \n",
       "1  A001WF    2344  53.0             0.0  ANDROID    SMARTPHONE           21   \n",
       "2  A003Q7     467  57.0             0.0  ANDROID    SMARTPHONE           28   \n",
       "\n",
       "   age_gr_id  tr_gr_id  lt_gr_id  nps_score  \n",
       "0          5         5         8         10  \n",
       "1          5         5         8         10  \n",
       "2          6         9         6         10  "
      ]
     },
     "execution_count": 18,
     "metadata": {},
     "output_type": "execute_result"
    }
   ],
   "source": [
    "user = pd.read_sql(query, engine)\n",
    "user.head(3)"
   ]
  },
  {
   "cell_type": "code",
   "execution_count": 19,
   "id": "66ad3b96",
   "metadata": {},
   "outputs": [
    {
     "data": {
      "text/plain": [
       "array([ 1.,  0., nan])"
      ]
     },
     "execution_count": 19,
     "metadata": {},
     "output_type": "execute_result"
    }
   ],
   "source": [
    "user.gender_segment.unique()"
   ]
  },
  {
   "cell_type": "code",
   "execution_count": 20,
   "id": "5a587fbf",
   "metadata": {},
   "outputs": [
    {
     "data": {
      "text/plain": [
       "1301"
      ]
     },
     "execution_count": 20,
     "metadata": {},
     "output_type": "execute_result"
    }
   ],
   "source": [
    "user.gender_segment.isna().sum()"
   ]
  },
  {
   "cell_type": "code",
   "execution_count": 21,
   "id": "ac67e90b",
   "metadata": {},
   "outputs": [],
   "source": [
    "query = \"\"\"\n",
    "SELECT * FROM location;\n",
    "\"\"\""
   ]
  },
  {
   "cell_type": "code",
   "execution_count": 22,
   "id": "f8e014e5",
   "metadata": {},
   "outputs": [
    {
     "data": {
      "text/html": [
       "<div>\n",
       "<style scoped>\n",
       "    .dataframe tbody tr th:only-of-type {\n",
       "        vertical-align: middle;\n",
       "    }\n",
       "\n",
       "    .dataframe tbody tr th {\n",
       "        vertical-align: top;\n",
       "    }\n",
       "\n",
       "    .dataframe thead th {\n",
       "        text-align: right;\n",
       "    }\n",
       "</style>\n",
       "<table border=\"1\" class=\"dataframe\">\n",
       "  <thead>\n",
       "    <tr style=\"text-align: right;\">\n",
       "      <th></th>\n",
       "      <th>location_id</th>\n",
       "      <th>city</th>\n",
       "      <th>country</th>\n",
       "    </tr>\n",
       "  </thead>\n",
       "  <tbody>\n",
       "    <tr>\n",
       "      <th>0</th>\n",
       "      <td>1</td>\n",
       "      <td>Архангельск</td>\n",
       "      <td>Россия</td>\n",
       "    </tr>\n",
       "    <tr>\n",
       "      <th>1</th>\n",
       "      <td>2</td>\n",
       "      <td>Астрахань</td>\n",
       "      <td>Россия</td>\n",
       "    </tr>\n",
       "    <tr>\n",
       "      <th>2</th>\n",
       "      <td>3</td>\n",
       "      <td>Балашиха</td>\n",
       "      <td>Россия</td>\n",
       "    </tr>\n",
       "  </tbody>\n",
       "</table>\n",
       "</div>"
      ],
      "text/plain": [
       "   location_id         city country\n",
       "0            1  Архангельск  Россия\n",
       "1            2    Астрахань  Россия\n",
       "2            3     Балашиха  Россия"
      ]
     },
     "execution_count": 22,
     "metadata": {},
     "output_type": "execute_result"
    }
   ],
   "source": [
    "location = pd.read_sql(query, engine)\n",
    "location.head(3)"
   ]
  },
  {
   "cell_type": "code",
   "execution_count": 23,
   "id": "c1eb3bc8",
   "metadata": {},
   "outputs": [],
   "source": [
    "query = \"\"\"\n",
    "SELECT * FROM age_segment;\n",
    "\"\"\""
   ]
  },
  {
   "cell_type": "code",
   "execution_count": 24,
   "id": "5fe99e4f",
   "metadata": {},
   "outputs": [
    {
     "data": {
      "text/html": [
       "<div>\n",
       "<style scoped>\n",
       "    .dataframe tbody tr th:only-of-type {\n",
       "        vertical-align: middle;\n",
       "    }\n",
       "\n",
       "    .dataframe tbody tr th {\n",
       "        vertical-align: top;\n",
       "    }\n",
       "\n",
       "    .dataframe thead th {\n",
       "        text-align: right;\n",
       "    }\n",
       "</style>\n",
       "<table border=\"1\" class=\"dataframe\">\n",
       "  <thead>\n",
       "    <tr style=\"text-align: right;\">\n",
       "      <th></th>\n",
       "      <th>age_gr_id</th>\n",
       "      <th>bucket_min</th>\n",
       "      <th>bucket_max</th>\n",
       "      <th>title</th>\n",
       "    </tr>\n",
       "  </thead>\n",
       "  <tbody>\n",
       "    <tr>\n",
       "      <th>0</th>\n",
       "      <td>1</td>\n",
       "      <td>NaN</td>\n",
       "      <td>15.0</td>\n",
       "      <td>01 до 16</td>\n",
       "    </tr>\n",
       "    <tr>\n",
       "      <th>1</th>\n",
       "      <td>2</td>\n",
       "      <td>16.0</td>\n",
       "      <td>24.0</td>\n",
       "      <td>02 16-24</td>\n",
       "    </tr>\n",
       "    <tr>\n",
       "      <th>2</th>\n",
       "      <td>3</td>\n",
       "      <td>25.0</td>\n",
       "      <td>34.0</td>\n",
       "      <td>03 25-34</td>\n",
       "    </tr>\n",
       "  </tbody>\n",
       "</table>\n",
       "</div>"
      ],
      "text/plain": [
       "   age_gr_id  bucket_min  bucket_max     title\n",
       "0          1         NaN        15.0  01 до 16\n",
       "1          2        16.0        24.0  02 16-24\n",
       "2          3        25.0        34.0  03 25-34"
      ]
     },
     "execution_count": 24,
     "metadata": {},
     "output_type": "execute_result"
    }
   ],
   "source": [
    "age_segment = pd.read_sql(query, engine)\n",
    "age_segment.head(3)"
   ]
  },
  {
   "cell_type": "code",
   "execution_count": 25,
   "id": "e0dc078c",
   "metadata": {},
   "outputs": [],
   "source": [
    "query = \"\"\"\n",
    "SELECT * FROM traffic_segment;\n",
    "\"\"\""
   ]
  },
  {
   "cell_type": "code",
   "execution_count": 26,
   "id": "a520070f",
   "metadata": {},
   "outputs": [
    {
     "data": {
      "text/html": [
       "<div>\n",
       "<style scoped>\n",
       "    .dataframe tbody tr th:only-of-type {\n",
       "        vertical-align: middle;\n",
       "    }\n",
       "\n",
       "    .dataframe tbody tr th {\n",
       "        vertical-align: top;\n",
       "    }\n",
       "\n",
       "    .dataframe thead th {\n",
       "        text-align: right;\n",
       "    }\n",
       "</style>\n",
       "<table border=\"1\" class=\"dataframe\">\n",
       "  <thead>\n",
       "    <tr style=\"text-align: right;\">\n",
       "      <th></th>\n",
       "      <th>tr_gr_id</th>\n",
       "      <th>bucket_min</th>\n",
       "      <th>bucket_max</th>\n",
       "      <th>title</th>\n",
       "    </tr>\n",
       "  </thead>\n",
       "  <tbody>\n",
       "    <tr>\n",
       "      <th>0</th>\n",
       "      <td>1</td>\n",
       "      <td>0.00</td>\n",
       "      <td>0.00</td>\n",
       "      <td>01 0</td>\n",
       "    </tr>\n",
       "    <tr>\n",
       "      <th>1</th>\n",
       "      <td>2</td>\n",
       "      <td>0.00</td>\n",
       "      <td>0.01</td>\n",
       "      <td>01 0-0.01</td>\n",
       "    </tr>\n",
       "    <tr>\n",
       "      <th>2</th>\n",
       "      <td>3</td>\n",
       "      <td>0.01</td>\n",
       "      <td>0.10</td>\n",
       "      <td>02 0.01-0.1</td>\n",
       "    </tr>\n",
       "  </tbody>\n",
       "</table>\n",
       "</div>"
      ],
      "text/plain": [
       "   tr_gr_id  bucket_min  bucket_max        title\n",
       "0         1        0.00        0.00         01 0\n",
       "1         2        0.00        0.01    01 0-0.01\n",
       "2         3        0.01        0.10  02 0.01-0.1"
      ]
     },
     "execution_count": 26,
     "metadata": {},
     "output_type": "execute_result"
    }
   ],
   "source": [
    "traffic_segment = pd.read_sql(query, engine)\n",
    "traffic_segment.head(3)"
   ]
  },
  {
   "cell_type": "code",
   "execution_count": 27,
   "id": "098545b8",
   "metadata": {},
   "outputs": [],
   "source": [
    "query = \"\"\"\n",
    "SELECT * FROM lifetime_segment;\n",
    "\"\"\""
   ]
  },
  {
   "cell_type": "code",
   "execution_count": 28,
   "id": "0cfcb394",
   "metadata": {},
   "outputs": [
    {
     "data": {
      "text/html": [
       "<div>\n",
       "<style scoped>\n",
       "    .dataframe tbody tr th:only-of-type {\n",
       "        vertical-align: middle;\n",
       "    }\n",
       "\n",
       "    .dataframe tbody tr th {\n",
       "        vertical-align: top;\n",
       "    }\n",
       "\n",
       "    .dataframe thead th {\n",
       "        text-align: right;\n",
       "    }\n",
       "</style>\n",
       "<table border=\"1\" class=\"dataframe\">\n",
       "  <thead>\n",
       "    <tr style=\"text-align: right;\">\n",
       "      <th></th>\n",
       "      <th>lt_gr_id</th>\n",
       "      <th>bucket_min</th>\n",
       "      <th>bucket_max</th>\n",
       "      <th>title</th>\n",
       "    </tr>\n",
       "  </thead>\n",
       "  <tbody>\n",
       "    <tr>\n",
       "      <th>0</th>\n",
       "      <td>1</td>\n",
       "      <td>1.0</td>\n",
       "      <td>1.0</td>\n",
       "      <td>01 1</td>\n",
       "    </tr>\n",
       "    <tr>\n",
       "      <th>1</th>\n",
       "      <td>2</td>\n",
       "      <td>2.0</td>\n",
       "      <td>2.0</td>\n",
       "      <td>02 2</td>\n",
       "    </tr>\n",
       "    <tr>\n",
       "      <th>2</th>\n",
       "      <td>3</td>\n",
       "      <td>3.0</td>\n",
       "      <td>3.0</td>\n",
       "      <td>03 3</td>\n",
       "    </tr>\n",
       "  </tbody>\n",
       "</table>\n",
       "</div>"
      ],
      "text/plain": [
       "   lt_gr_id  bucket_min  bucket_max title\n",
       "0         1         1.0         1.0  01 1\n",
       "1         2         2.0         2.0  02 2\n",
       "2         3         3.0         3.0  03 3"
      ]
     },
     "execution_count": 28,
     "metadata": {},
     "output_type": "execute_result"
    }
   ],
   "source": [
    "lifetime_segment = pd.read_sql(query, engine)\n",
    "lifetime_segment.head(3)"
   ]
  },
  {
   "cell_type": "code",
   "execution_count": 29,
   "id": "b05f3e8b",
   "metadata": {},
   "outputs": [],
   "source": [
    "query = \"\"\"\n",
    "SELECT u.user_id, \n",
    "       u.lt_day, \n",
    "       CASE \n",
    "       WHEN u.lt_day <= 365 THEN 'new'\n",
    "       ELSE 'used'\n",
    "       END AS is_new,\n",
    "       u.age,\n",
    "       CASE\n",
    "       WHEN u.gender_segment = 1 THEN 'female'\n",
    "       WHEN u.gender_segment = 1 THEN 'man'\n",
    "       ELSE 'unknown'\n",
    "       END AS gender_segment,\n",
    "       u.os_name, \n",
    "       u.cpe_type_name,\n",
    "       l.country, \n",
    "       l.city,\n",
    "       ags.title AS age_segment,\n",
    "       tr.title AS traffic_segment,\n",
    "       lt.title AS lifetime_segment,\n",
    "       u.nps_score,\n",
    "       CASE\n",
    "       WHEN u.nps_score >= 9 THEN 'promoters'\n",
    "       WHEN u.nps_score >= 7 THEN 'passives'\n",
    "       ELSE 'detractors'\n",
    "       END AS nps_group\n",
    "FROM user AS u\n",
    "JOIN location AS l ON u.location_id = l.location_id\n",
    "JOIN age_segment AS ags ON u.age_gr_id = ags.age_gr_id\n",
    "JOIN traffic_segment AS tr ON u.tr_gr_id = tr.tr_gr_id\n",
    "JOIN lifetime_segment AS lt ON u.lt_gr_id = lt.lt_gr_id;\n",
    "\"\"\""
   ]
  },
  {
   "cell_type": "code",
   "execution_count": 30,
   "id": "bdcad984",
   "metadata": {},
   "outputs": [
    {
     "data": {
      "text/html": [
       "<div>\n",
       "<style scoped>\n",
       "    .dataframe tbody tr th:only-of-type {\n",
       "        vertical-align: middle;\n",
       "    }\n",
       "\n",
       "    .dataframe tbody tr th {\n",
       "        vertical-align: top;\n",
       "    }\n",
       "\n",
       "    .dataframe thead th {\n",
       "        text-align: right;\n",
       "    }\n",
       "</style>\n",
       "<table border=\"1\" class=\"dataframe\">\n",
       "  <thead>\n",
       "    <tr style=\"text-align: right;\">\n",
       "      <th></th>\n",
       "      <th>user_id</th>\n",
       "      <th>lt_day</th>\n",
       "      <th>is_new</th>\n",
       "      <th>age</th>\n",
       "      <th>gender_segment</th>\n",
       "      <th>os_name</th>\n",
       "      <th>cpe_type_name</th>\n",
       "      <th>country</th>\n",
       "      <th>city</th>\n",
       "      <th>age_segment</th>\n",
       "      <th>traffic_segment</th>\n",
       "      <th>lifetime_segment</th>\n",
       "      <th>nps_score</th>\n",
       "      <th>nps_group</th>\n",
       "    </tr>\n",
       "  </thead>\n",
       "  <tbody>\n",
       "    <tr>\n",
       "      <th>93305</th>\n",
       "      <td>ET242P</td>\n",
       "      <td>1045</td>\n",
       "      <td>used</td>\n",
       "      <td>40.0</td>\n",
       "      <td>female</td>\n",
       "      <td>ANDROID</td>\n",
       "      <td>SMARTPHONE</td>\n",
       "      <td>Россия</td>\n",
       "      <td>Новосибирск</td>\n",
       "      <td>04 35-44</td>\n",
       "      <td>05 5-10</td>\n",
       "      <td>07 25-36</td>\n",
       "      <td>10</td>\n",
       "      <td>promoters</td>\n",
       "    </tr>\n",
       "    <tr>\n",
       "      <th>420999</th>\n",
       "      <td>VS2EVT</td>\n",
       "      <td>2818</td>\n",
       "      <td>used</td>\n",
       "      <td>30.0</td>\n",
       "      <td>unknown</td>\n",
       "      <td>ANDROID</td>\n",
       "      <td>SMARTPHONE</td>\n",
       "      <td>Россия</td>\n",
       "      <td>Липецк</td>\n",
       "      <td>03 25-34</td>\n",
       "      <td>04 1-5</td>\n",
       "      <td>08 36+</td>\n",
       "      <td>9</td>\n",
       "      <td>promoters</td>\n",
       "    </tr>\n",
       "    <tr>\n",
       "      <th>60270</th>\n",
       "      <td>D3QW26</td>\n",
       "      <td>5380</td>\n",
       "      <td>used</td>\n",
       "      <td>59.0</td>\n",
       "      <td>female</td>\n",
       "      <td>ANDROID</td>\n",
       "      <td>SMARTPHONE</td>\n",
       "      <td>Россия</td>\n",
       "      <td>Волгоград</td>\n",
       "      <td>06 55-64</td>\n",
       "      <td>06 10-15</td>\n",
       "      <td>08 36+</td>\n",
       "      <td>10</td>\n",
       "      <td>promoters</td>\n",
       "    </tr>\n",
       "    <tr>\n",
       "      <th>175459</th>\n",
       "      <td>J23AH3</td>\n",
       "      <td>532</td>\n",
       "      <td>used</td>\n",
       "      <td>41.0</td>\n",
       "      <td>unknown</td>\n",
       "      <td>ANDROID</td>\n",
       "      <td>SMARTPHONE</td>\n",
       "      <td>Россия</td>\n",
       "      <td>НижнийНовгород</td>\n",
       "      <td>04 35-44</td>\n",
       "      <td>10 30-35</td>\n",
       "      <td>06 13-24</td>\n",
       "      <td>7</td>\n",
       "      <td>passives</td>\n",
       "    </tr>\n",
       "    <tr>\n",
       "      <th>495697</th>\n",
       "      <td>ZN03RZ</td>\n",
       "      <td>253</td>\n",
       "      <td>new</td>\n",
       "      <td>61.0</td>\n",
       "      <td>female</td>\n",
       "      <td>ANDROID</td>\n",
       "      <td>SMARTPHONE</td>\n",
       "      <td>Россия</td>\n",
       "      <td>Москва</td>\n",
       "      <td>06 55-64</td>\n",
       "      <td>04 1-5</td>\n",
       "      <td>05 7-12</td>\n",
       "      <td>5</td>\n",
       "      <td>detractors</td>\n",
       "    </tr>\n",
       "    <tr>\n",
       "      <th>474003</th>\n",
       "      <td>YIVF2U</td>\n",
       "      <td>2884</td>\n",
       "      <td>used</td>\n",
       "      <td>51.0</td>\n",
       "      <td>unknown</td>\n",
       "      <td>ANDROID</td>\n",
       "      <td>SMARTPHONE</td>\n",
       "      <td>Россия</td>\n",
       "      <td>Хабаровск</td>\n",
       "      <td>05 45-54</td>\n",
       "      <td>04 1-5</td>\n",
       "      <td>08 36+</td>\n",
       "      <td>5</td>\n",
       "      <td>detractors</td>\n",
       "    </tr>\n",
       "    <tr>\n",
       "      <th>234860</th>\n",
       "      <td>M56TQF</td>\n",
       "      <td>5139</td>\n",
       "      <td>used</td>\n",
       "      <td>56.0</td>\n",
       "      <td>female</td>\n",
       "      <td>ANDROID</td>\n",
       "      <td>SMARTPHONE</td>\n",
       "      <td>Россия</td>\n",
       "      <td>Екатеринбург</td>\n",
       "      <td>06 55-64</td>\n",
       "      <td>04 1-5</td>\n",
       "      <td>08 36+</td>\n",
       "      <td>1</td>\n",
       "      <td>detractors</td>\n",
       "    </tr>\n",
       "    <tr>\n",
       "      <th>471069</th>\n",
       "      <td>YDJYM6</td>\n",
       "      <td>1709</td>\n",
       "      <td>used</td>\n",
       "      <td>47.0</td>\n",
       "      <td>unknown</td>\n",
       "      <td>ANDROID</td>\n",
       "      <td>SMARTPHONE</td>\n",
       "      <td>Россия</td>\n",
       "      <td>Москва</td>\n",
       "      <td>05 45-54</td>\n",
       "      <td>04 1-5</td>\n",
       "      <td>08 36+</td>\n",
       "      <td>10</td>\n",
       "      <td>promoters</td>\n",
       "    </tr>\n",
       "    <tr>\n",
       "      <th>27479</th>\n",
       "      <td>BF7DLB</td>\n",
       "      <td>1377</td>\n",
       "      <td>used</td>\n",
       "      <td>33.0</td>\n",
       "      <td>unknown</td>\n",
       "      <td>ANDROID</td>\n",
       "      <td>SMARTPHONE</td>\n",
       "      <td>Россия</td>\n",
       "      <td>Калининград</td>\n",
       "      <td>03 25-34</td>\n",
       "      <td>03 0.1-1</td>\n",
       "      <td>08 36+</td>\n",
       "      <td>4</td>\n",
       "      <td>detractors</td>\n",
       "    </tr>\n",
       "    <tr>\n",
       "      <th>134478</th>\n",
       "      <td>GXLQJQ</td>\n",
       "      <td>1484</td>\n",
       "      <td>used</td>\n",
       "      <td>30.0</td>\n",
       "      <td>female</td>\n",
       "      <td>ANDROID</td>\n",
       "      <td>SMARTPHONE</td>\n",
       "      <td>Россия</td>\n",
       "      <td>Пермь</td>\n",
       "      <td>03 25-34</td>\n",
       "      <td>08 20-25</td>\n",
       "      <td>08 36+</td>\n",
       "      <td>10</td>\n",
       "      <td>promoters</td>\n",
       "    </tr>\n",
       "    <tr>\n",
       "      <th>343136</th>\n",
       "      <td>RR8JH5</td>\n",
       "      <td>367</td>\n",
       "      <td>used</td>\n",
       "      <td>29.0</td>\n",
       "      <td>unknown</td>\n",
       "      <td>ANDROID</td>\n",
       "      <td>SMARTPHONE</td>\n",
       "      <td>Россия</td>\n",
       "      <td>Тюмень</td>\n",
       "      <td>03 25-34</td>\n",
       "      <td>04 1-5</td>\n",
       "      <td>06 13-24</td>\n",
       "      <td>10</td>\n",
       "      <td>promoters</td>\n",
       "    </tr>\n",
       "    <tr>\n",
       "      <th>227136</th>\n",
       "      <td>LQKQZW</td>\n",
       "      <td>5200</td>\n",
       "      <td>used</td>\n",
       "      <td>51.0</td>\n",
       "      <td>unknown</td>\n",
       "      <td>ANDROID</td>\n",
       "      <td>SMARTPHONE</td>\n",
       "      <td>Россия</td>\n",
       "      <td>НижнийНовгород</td>\n",
       "      <td>05 45-54</td>\n",
       "      <td>04 1-5</td>\n",
       "      <td>08 36+</td>\n",
       "      <td>8</td>\n",
       "      <td>passives</td>\n",
       "    </tr>\n",
       "    <tr>\n",
       "      <th>184740</th>\n",
       "      <td>JJTKZ7</td>\n",
       "      <td>55</td>\n",
       "      <td>new</td>\n",
       "      <td>42.0</td>\n",
       "      <td>female</td>\n",
       "      <td>ANDROID</td>\n",
       "      <td>SMARTPHONE</td>\n",
       "      <td>Россия</td>\n",
       "      <td>Астрахань</td>\n",
       "      <td>04 35-44</td>\n",
       "      <td>09 25-30</td>\n",
       "      <td>02 2</td>\n",
       "      <td>5</td>\n",
       "      <td>detractors</td>\n",
       "    </tr>\n",
       "    <tr>\n",
       "      <th>321171</th>\n",
       "      <td>QMEFME</td>\n",
       "      <td>380</td>\n",
       "      <td>used</td>\n",
       "      <td>41.0</td>\n",
       "      <td>female</td>\n",
       "      <td>ANDROID</td>\n",
       "      <td>SMARTPHONE</td>\n",
       "      <td>Россия</td>\n",
       "      <td>Екатеринбург</td>\n",
       "      <td>04 35-44</td>\n",
       "      <td>04 1-5</td>\n",
       "      <td>06 13-24</td>\n",
       "      <td>10</td>\n",
       "      <td>promoters</td>\n",
       "    </tr>\n",
       "    <tr>\n",
       "      <th>86148</th>\n",
       "      <td>EFUE6V</td>\n",
       "      <td>3170</td>\n",
       "      <td>used</td>\n",
       "      <td>30.0</td>\n",
       "      <td>female</td>\n",
       "      <td>ANDROID</td>\n",
       "      <td>SMARTPHONE</td>\n",
       "      <td>Россия</td>\n",
       "      <td>Саратов</td>\n",
       "      <td>03 25-34</td>\n",
       "      <td>04 1-5</td>\n",
       "      <td>08 36+</td>\n",
       "      <td>9</td>\n",
       "      <td>promoters</td>\n",
       "    </tr>\n",
       "    <tr>\n",
       "      <th>153049</th>\n",
       "      <td>HWDMLM</td>\n",
       "      <td>677</td>\n",
       "      <td>used</td>\n",
       "      <td>30.0</td>\n",
       "      <td>unknown</td>\n",
       "      <td>ANDROID</td>\n",
       "      <td>SMARTPHONE</td>\n",
       "      <td>Россия</td>\n",
       "      <td>Самара</td>\n",
       "      <td>03 25-34</td>\n",
       "      <td>11 35-40</td>\n",
       "      <td>06 13-24</td>\n",
       "      <td>8</td>\n",
       "      <td>passives</td>\n",
       "    </tr>\n",
       "    <tr>\n",
       "      <th>249572</th>\n",
       "      <td>MWJY8P</td>\n",
       "      <td>3742</td>\n",
       "      <td>used</td>\n",
       "      <td>37.0</td>\n",
       "      <td>unknown</td>\n",
       "      <td>ANDROID</td>\n",
       "      <td>SMARTPHONE</td>\n",
       "      <td>Россия</td>\n",
       "      <td>Омск</td>\n",
       "      <td>04 35-44</td>\n",
       "      <td>22 90-95</td>\n",
       "      <td>08 36+</td>\n",
       "      <td>10</td>\n",
       "      <td>promoters</td>\n",
       "    </tr>\n",
       "    <tr>\n",
       "      <th>112144</th>\n",
       "      <td>FS0QEW</td>\n",
       "      <td>2732</td>\n",
       "      <td>used</td>\n",
       "      <td>59.0</td>\n",
       "      <td>female</td>\n",
       "      <td>ANDROID</td>\n",
       "      <td>SMARTPHONE</td>\n",
       "      <td>Россия</td>\n",
       "      <td>Челябинск</td>\n",
       "      <td>06 55-64</td>\n",
       "      <td>09 25-30</td>\n",
       "      <td>08 36+</td>\n",
       "      <td>10</td>\n",
       "      <td>promoters</td>\n",
       "    </tr>\n",
       "    <tr>\n",
       "      <th>463047</th>\n",
       "      <td>XYGHYQ</td>\n",
       "      <td>1323</td>\n",
       "      <td>used</td>\n",
       "      <td>56.0</td>\n",
       "      <td>female</td>\n",
       "      <td>ANDROID</td>\n",
       "      <td>SMARTPHONE</td>\n",
       "      <td>Россия</td>\n",
       "      <td>Москва</td>\n",
       "      <td>06 55-64</td>\n",
       "      <td>07 15-20</td>\n",
       "      <td>08 36+</td>\n",
       "      <td>9</td>\n",
       "      <td>promoters</td>\n",
       "    </tr>\n",
       "    <tr>\n",
       "      <th>103173</th>\n",
       "      <td>FB8MGA</td>\n",
       "      <td>2972</td>\n",
       "      <td>used</td>\n",
       "      <td>41.0</td>\n",
       "      <td>female</td>\n",
       "      <td>ANDROID</td>\n",
       "      <td>SMARTPHONE</td>\n",
       "      <td>Россия</td>\n",
       "      <td>Омск</td>\n",
       "      <td>04 35-44</td>\n",
       "      <td>07 15-20</td>\n",
       "      <td>08 36+</td>\n",
       "      <td>10</td>\n",
       "      <td>promoters</td>\n",
       "    </tr>\n",
       "  </tbody>\n",
       "</table>\n",
       "</div>"
      ],
      "text/plain": [
       "       user_id  lt_day is_new   age gender_segment  os_name cpe_type_name  \\\n",
       "93305   ET242P    1045   used  40.0         female  ANDROID    SMARTPHONE   \n",
       "420999  VS2EVT    2818   used  30.0        unknown  ANDROID    SMARTPHONE   \n",
       "60270   D3QW26    5380   used  59.0         female  ANDROID    SMARTPHONE   \n",
       "175459  J23AH3     532   used  41.0        unknown  ANDROID    SMARTPHONE   \n",
       "495697  ZN03RZ     253    new  61.0         female  ANDROID    SMARTPHONE   \n",
       "474003  YIVF2U    2884   used  51.0        unknown  ANDROID    SMARTPHONE   \n",
       "234860  M56TQF    5139   used  56.0         female  ANDROID    SMARTPHONE   \n",
       "471069  YDJYM6    1709   used  47.0        unknown  ANDROID    SMARTPHONE   \n",
       "27479   BF7DLB    1377   used  33.0        unknown  ANDROID    SMARTPHONE   \n",
       "134478  GXLQJQ    1484   used  30.0         female  ANDROID    SMARTPHONE   \n",
       "343136  RR8JH5     367   used  29.0        unknown  ANDROID    SMARTPHONE   \n",
       "227136  LQKQZW    5200   used  51.0        unknown  ANDROID    SMARTPHONE   \n",
       "184740  JJTKZ7      55    new  42.0         female  ANDROID    SMARTPHONE   \n",
       "321171  QMEFME     380   used  41.0         female  ANDROID    SMARTPHONE   \n",
       "86148   EFUE6V    3170   used  30.0         female  ANDROID    SMARTPHONE   \n",
       "153049  HWDMLM     677   used  30.0        unknown  ANDROID    SMARTPHONE   \n",
       "249572  MWJY8P    3742   used  37.0        unknown  ANDROID    SMARTPHONE   \n",
       "112144  FS0QEW    2732   used  59.0         female  ANDROID    SMARTPHONE   \n",
       "463047  XYGHYQ    1323   used  56.0         female  ANDROID    SMARTPHONE   \n",
       "103173  FB8MGA    2972   used  41.0         female  ANDROID    SMARTPHONE   \n",
       "\n",
       "       country            city age_segment traffic_segment lifetime_segment  \\\n",
       "93305   Россия     Новосибирск    04 35-44         05 5-10         07 25-36   \n",
       "420999  Россия          Липецк    03 25-34          04 1-5           08 36+   \n",
       "60270   Россия       Волгоград    06 55-64        06 10-15           08 36+   \n",
       "175459  Россия  НижнийНовгород    04 35-44        10 30-35         06 13-24   \n",
       "495697  Россия          Москва    06 55-64          04 1-5          05 7-12   \n",
       "474003  Россия       Хабаровск    05 45-54          04 1-5           08 36+   \n",
       "234860  Россия    Екатеринбург    06 55-64          04 1-5           08 36+   \n",
       "471069  Россия          Москва    05 45-54          04 1-5           08 36+   \n",
       "27479   Россия     Калининград    03 25-34        03 0.1-1           08 36+   \n",
       "134478  Россия           Пермь    03 25-34        08 20-25           08 36+   \n",
       "343136  Россия          Тюмень    03 25-34          04 1-5         06 13-24   \n",
       "227136  Россия  НижнийНовгород    05 45-54          04 1-5           08 36+   \n",
       "184740  Россия       Астрахань    04 35-44        09 25-30             02 2   \n",
       "321171  Россия    Екатеринбург    04 35-44          04 1-5         06 13-24   \n",
       "86148   Россия         Саратов    03 25-34          04 1-5           08 36+   \n",
       "153049  Россия          Самара    03 25-34        11 35-40         06 13-24   \n",
       "249572  Россия            Омск    04 35-44        22 90-95           08 36+   \n",
       "112144  Россия       Челябинск    06 55-64        09 25-30           08 36+   \n",
       "463047  Россия          Москва    06 55-64        07 15-20           08 36+   \n",
       "103173  Россия            Омск    04 35-44        07 15-20           08 36+   \n",
       "\n",
       "        nps_score   nps_group  \n",
       "93305          10   promoters  \n",
       "420999          9   promoters  \n",
       "60270          10   promoters  \n",
       "175459          7    passives  \n",
       "495697          5  detractors  \n",
       "474003          5  detractors  \n",
       "234860          1  detractors  \n",
       "471069         10   promoters  \n",
       "27479           4  detractors  \n",
       "134478         10   promoters  \n",
       "343136         10   promoters  \n",
       "227136          8    passives  \n",
       "184740          5  detractors  \n",
       "321171         10   promoters  \n",
       "86148           9   promoters  \n",
       "153049          8    passives  \n",
       "249572         10   promoters  \n",
       "112144         10   promoters  \n",
       "463047          9   promoters  \n",
       "103173         10   promoters  "
      ]
     },
     "execution_count": 30,
     "metadata": {},
     "output_type": "execute_result"
    }
   ],
   "source": [
    "telecomm_csi_tableau = pd.read_sql(query, engine)\n",
    "telecomm_csi_tableau.sample(20)"
   ]
  },
  {
   "cell_type": "markdown",
   "id": "7cfa9d3a",
   "metadata": {},
   "source": [
    "Итоговые данные использованы для построения дашборда."
   ]
  },
  {
   "cell_type": "code",
   "execution_count": 31,
   "id": "b5580f84",
   "metadata": {},
   "outputs": [],
   "source": [
    "telecomm_csi_tableau.to_csv('telecomm_csi_tableau.csv', index=False)"
   ]
  },
  {
   "cell_type": "markdown",
   "id": "fef93e92",
   "metadata": {},
   "source": [
    "Интерпретируя результаты NPS-опросов, следует также помнить, что само значение мало о чём говорит. Однако исследования показывают, что клиенты-сторонники полезны любому бизнесу. Они чаще других повторно совершают покупки, активнее тестируют обновления и приводят в сервис своих друзей и знакомых. Поэтому NPS остаётся одной из важнейших метрик бизнеса."
   ]
  },
  {
   "cell_type": "markdown",
   "id": "1e20eea9",
   "metadata": {},
   "source": [
    "Дашборд\n",
    "\n",
    "<https://public.tableau.com/app/profile/valentin.morozov/viz/NPS_16355241193830/NPSstory?publish=yes>\n",
    "\n",
    "Презентация\n",
    "\n",
    "<https://yadi.sk/d/qTYV6dvMTPOc6w>"
   ]
  }
 ],
 "metadata": {
  "ExecuteTimeLog": [
   {
    "duration": 752,
    "start_time": "2021-10-03T17:40:52.731Z"
   },
   {
    "duration": 20,
    "start_time": "2021-10-03T17:40:53.486Z"
   },
   {
    "duration": 4,
    "start_time": "2021-10-03T17:41:04.638Z"
   },
   {
    "duration": 461,
    "start_time": "2021-10-03T17:41:04.912Z"
   },
   {
    "duration": 284,
    "start_time": "2021-10-03T17:41:05.376Z"
   },
   {
    "duration": 574,
    "start_time": "2021-10-06T07:55:05.029Z"
   },
   {
    "duration": 6,
    "start_time": "2021-10-06T07:55:05.605Z"
   },
   {
    "duration": 3,
    "start_time": "2021-10-06T07:55:14.685Z"
   },
   {
    "duration": 406,
    "start_time": "2021-10-06T07:55:15.522Z"
   },
   {
    "duration": 67,
    "start_time": "2021-10-06T07:55:15.929Z"
   },
   {
    "duration": 861,
    "start_time": "2021-10-28T09:52:08.548Z"
   },
   {
    "duration": 10,
    "start_time": "2021-10-28T09:52:10.128Z"
   },
   {
    "duration": 4,
    "start_time": "2021-10-28T09:52:11.746Z"
   },
   {
    "duration": 557,
    "start_time": "2021-10-28T09:52:14.536Z"
   },
   {
    "duration": 3,
    "start_time": "2021-10-28T09:54:18.821Z"
   },
   {
    "duration": 4137,
    "start_time": "2021-10-28T09:54:19.871Z"
   },
   {
    "duration": 3815,
    "start_time": "2021-10-28T09:58:33.373Z"
   },
   {
    "duration": 4003,
    "start_time": "2021-10-28T09:59:26.732Z"
   },
   {
    "duration": 4,
    "start_time": "2021-10-28T10:00:59.502Z"
   },
   {
    "duration": 564,
    "start_time": "2021-10-28T10:00:59.932Z"
   },
   {
    "duration": 4,
    "start_time": "2021-10-28T10:03:55.278Z"
   },
   {
    "duration": 544,
    "start_time": "2021-10-28T10:03:55.728Z"
   },
   {
    "duration": 4,
    "start_time": "2021-10-28T10:04:16.058Z"
   },
   {
    "duration": 553,
    "start_time": "2021-10-28T10:04:16.438Z"
   },
   {
    "duration": 550,
    "start_time": "2021-10-28T10:04:51.278Z"
   },
   {
    "duration": 3,
    "start_time": "2021-10-28T10:04:55.839Z"
   },
   {
    "duration": 547,
    "start_time": "2021-10-28T10:04:56.298Z"
   },
   {
    "duration": 3,
    "start_time": "2021-10-28T10:11:21.639Z"
   },
   {
    "duration": 2931,
    "start_time": "2021-10-28T10:11:37.158Z"
   },
   {
    "duration": 551,
    "start_time": "2021-10-28T10:11:50.059Z"
   },
   {
    "duration": 3,
    "start_time": "2021-10-28T10:28:52.093Z"
   },
   {
    "duration": 919,
    "start_time": "2021-10-28T10:28:52.663Z"
   },
   {
    "duration": 3,
    "start_time": "2021-10-28T10:29:35.845Z"
   },
   {
    "duration": 910,
    "start_time": "2021-10-28T10:29:36.343Z"
   },
   {
    "duration": 4,
    "start_time": "2021-10-28T10:30:08.919Z"
   },
   {
    "duration": 919,
    "start_time": "2021-10-28T10:30:09.677Z"
   },
   {
    "duration": 3,
    "start_time": "2021-10-28T10:30:53.983Z"
   },
   {
    "duration": 3428,
    "start_time": "2021-10-28T10:30:54.333Z"
   },
   {
    "duration": 3,
    "start_time": "2021-10-28T10:33:22.113Z"
   },
   {
    "duration": 725,
    "start_time": "2021-10-28T10:33:22.463Z"
   },
   {
    "duration": 3,
    "start_time": "2021-10-28T10:34:47.703Z"
   },
   {
    "duration": 663,
    "start_time": "2021-10-28T10:34:47.952Z"
   },
   {
    "duration": 4,
    "start_time": "2021-10-28T10:36:42.407Z"
   },
   {
    "duration": 675,
    "start_time": "2021-10-28T10:36:43.399Z"
   },
   {
    "duration": 3,
    "start_time": "2021-10-28T10:37:45.549Z"
   },
   {
    "duration": 3883,
    "start_time": "2021-10-28T10:37:45.877Z"
   },
   {
    "duration": 3,
    "start_time": "2021-10-28T10:38:02.184Z"
   },
   {
    "duration": 3932,
    "start_time": "2021-10-28T10:38:02.443Z"
   },
   {
    "duration": 4,
    "start_time": "2021-10-28T10:39:56.383Z"
   },
   {
    "duration": 4282,
    "start_time": "2021-10-28T10:39:56.684Z"
   },
   {
    "duration": 4,
    "start_time": "2021-10-28T10:40:49.533Z"
   },
   {
    "duration": 4426,
    "start_time": "2021-10-28T10:40:49.804Z"
   },
   {
    "duration": 3,
    "start_time": "2021-10-28T10:45:59.674Z"
   },
   {
    "duration": 58208,
    "start_time": "2021-10-28T10:46:00.023Z"
   },
   {
    "duration": 3,
    "start_time": "2021-10-28T10:47:23.865Z"
   },
   {
    "duration": 18097,
    "start_time": "2021-10-28T10:47:24.194Z"
   },
   {
    "duration": 4,
    "start_time": "2021-10-28T10:55:05.823Z"
   },
   {
    "duration": 5601,
    "start_time": "2021-10-28T10:55:06.609Z"
   },
   {
    "duration": 3,
    "start_time": "2021-10-28T10:55:40.172Z"
   },
   {
    "duration": 5526,
    "start_time": "2021-10-28T10:55:40.437Z"
   },
   {
    "duration": 4,
    "start_time": "2021-10-28T11:00:17.473Z"
   },
   {
    "duration": 6844,
    "start_time": "2021-10-28T11:00:17.713Z"
   },
   {
    "duration": 1042,
    "start_time": "2021-10-28T11:03:07.450Z"
   },
   {
    "duration": 10,
    "start_time": "2021-10-28T11:03:08.495Z"
   },
   {
    "duration": 15,
    "start_time": "2021-10-28T11:03:08.508Z"
   },
   {
    "duration": 4380,
    "start_time": "2021-10-28T11:03:08.526Z"
   },
   {
    "duration": 3,
    "start_time": "2021-10-28T11:03:12.910Z"
   },
   {
    "duration": 578,
    "start_time": "2021-10-28T11:03:12.916Z"
   },
   {
    "duration": 4,
    "start_time": "2021-10-28T11:03:13.497Z"
   },
   {
    "duration": 570,
    "start_time": "2021-10-28T11:03:13.505Z"
   },
   {
    "duration": 4,
    "start_time": "2021-10-28T11:03:14.078Z"
   },
   {
    "duration": 552,
    "start_time": "2021-10-28T11:03:14.084Z"
   },
   {
    "duration": 4,
    "start_time": "2021-10-28T11:03:14.639Z"
   },
   {
    "duration": 564,
    "start_time": "2021-10-28T11:03:14.645Z"
   },
   {
    "duration": 3,
    "start_time": "2021-10-28T11:03:15.211Z"
   },
   {
    "duration": 6472,
    "start_time": "2021-10-28T11:03:15.217Z"
   },
   {
    "duration": 920,
    "start_time": "2021-10-28T11:03:21.692Z"
   },
   {
    "duration": 5,
    "start_time": "2021-10-28T11:09:10.503Z"
   },
   {
    "duration": 6544,
    "start_time": "2021-10-28T11:09:10.774Z"
   },
   {
    "duration": 8525,
    "start_time": "2021-10-28T11:09:48.013Z"
   },
   {
    "duration": 7,
    "start_time": "2021-10-28T11:10:29.821Z"
   },
   {
    "duration": 528,
    "start_time": "2021-10-28T11:12:32.322Z"
   },
   {
    "duration": 531,
    "start_time": "2021-10-28T11:13:11.243Z"
   },
   {
    "duration": 3,
    "start_time": "2021-10-28T14:11:11.594Z"
   },
   {
    "duration": 6594,
    "start_time": "2021-10-28T14:11:12.302Z"
   },
   {
    "duration": 8595,
    "start_time": "2021-10-28T14:11:45.288Z"
   },
   {
    "duration": 4,
    "start_time": "2021-10-28T14:29:31.277Z"
   },
   {
    "duration": 6326,
    "start_time": "2021-10-28T14:29:32.421Z"
   },
   {
    "duration": 7325,
    "start_time": "2021-10-28T14:29:44.997Z"
   },
   {
    "duration": 503,
    "start_time": "2021-10-29T16:19:24.294Z"
   },
   {
    "duration": 875,
    "start_time": "2021-10-29T16:19:30.919Z"
   },
   {
    "duration": 10,
    "start_time": "2021-10-29T16:19:31.797Z"
   },
   {
    "duration": 12,
    "start_time": "2021-10-29T16:19:31.810Z"
   },
   {
    "duration": 4942,
    "start_time": "2021-10-29T16:19:31.825Z"
   },
   {
    "duration": 4,
    "start_time": "2021-10-29T16:19:36.769Z"
   },
   {
    "duration": 521,
    "start_time": "2021-10-29T16:19:36.775Z"
   },
   {
    "duration": 3,
    "start_time": "2021-10-29T16:19:37.299Z"
   },
   {
    "duration": 505,
    "start_time": "2021-10-29T16:19:37.305Z"
   },
   {
    "duration": 4,
    "start_time": "2021-10-29T16:19:37.813Z"
   },
   {
    "duration": 517,
    "start_time": "2021-10-29T16:19:37.819Z"
   },
   {
    "duration": 3,
    "start_time": "2021-10-29T16:19:38.338Z"
   },
   {
    "duration": 506,
    "start_time": "2021-10-29T16:19:38.343Z"
   },
   {
    "duration": 4,
    "start_time": "2021-10-29T16:19:38.852Z"
   },
   {
    "duration": 6374,
    "start_time": "2021-10-29T16:19:38.859Z"
   },
   {
    "duration": 8053,
    "start_time": "2021-10-29T16:19:45.235Z"
   },
   {
    "duration": 346,
    "start_time": "2021-10-30T20:17:35.009Z"
   },
   {
    "duration": 832,
    "start_time": "2021-10-30T20:17:39.738Z"
   },
   {
    "duration": 11,
    "start_time": "2021-10-30T20:17:40.573Z"
   },
   {
    "duration": 4,
    "start_time": "2021-10-30T20:17:40.587Z"
   },
   {
    "duration": 3870,
    "start_time": "2021-10-30T20:17:40.594Z"
   },
   {
    "duration": 13,
    "start_time": "2021-10-30T20:17:44.466Z"
   },
   {
    "duration": 3,
    "start_time": "2021-10-30T20:17:44.482Z"
   },
   {
    "duration": 452,
    "start_time": "2021-10-30T20:17:44.487Z"
   },
   {
    "duration": 4,
    "start_time": "2021-10-30T20:17:44.942Z"
   },
   {
    "duration": 458,
    "start_time": "2021-10-30T20:17:44.950Z"
   },
   {
    "duration": 3,
    "start_time": "2021-10-30T20:17:45.412Z"
   },
   {
    "duration": 463,
    "start_time": "2021-10-30T20:17:45.419Z"
   },
   {
    "duration": 4,
    "start_time": "2021-10-30T20:17:45.884Z"
   },
   {
    "duration": 440,
    "start_time": "2021-10-30T20:17:45.890Z"
   },
   {
    "duration": 3,
    "start_time": "2021-10-30T20:17:46.333Z"
   },
   {
    "duration": 8956,
    "start_time": "2021-10-30T20:17:46.338Z"
   },
   {
    "duration": 7272,
    "start_time": "2021-10-30T20:17:55.296Z"
   },
   {
    "duration": 7,
    "start_time": "2021-10-30T20:18:36.258Z"
   },
   {
    "duration": 3,
    "start_time": "2021-10-30T20:19:49.929Z"
   },
   {
    "duration": 4,
    "start_time": "2021-10-30T20:19:57.254Z"
   },
   {
    "duration": 8,
    "start_time": "2021-10-30T20:19:57.260Z"
   },
   {
    "duration": 5,
    "start_time": "2021-10-30T20:19:57.271Z"
   },
   {
    "duration": 3664,
    "start_time": "2021-10-30T20:19:57.278Z"
   },
   {
    "duration": 13,
    "start_time": "2021-10-30T20:20:00.945Z"
   },
   {
    "duration": 26,
    "start_time": "2021-10-30T20:20:00.961Z"
   },
   {
    "duration": 15,
    "start_time": "2021-10-30T20:20:00.991Z"
   },
   {
    "duration": 459,
    "start_time": "2021-10-30T20:20:01.010Z"
   },
   {
    "duration": 3,
    "start_time": "2021-10-30T20:20:01.471Z"
   },
   {
    "duration": 454,
    "start_time": "2021-10-30T20:20:01.476Z"
   },
   {
    "duration": 4,
    "start_time": "2021-10-30T20:20:01.932Z"
   },
   {
    "duration": 472,
    "start_time": "2021-10-30T20:20:01.938Z"
   },
   {
    "duration": 3,
    "start_time": "2021-10-30T20:20:02.413Z"
   },
   {
    "duration": 442,
    "start_time": "2021-10-30T20:20:02.418Z"
   },
   {
    "duration": 4,
    "start_time": "2021-10-30T20:20:02.863Z"
   },
   {
    "duration": 6247,
    "start_time": "2021-10-30T20:20:02.870Z"
   },
   {
    "duration": 6987,
    "start_time": "2021-10-30T20:20:09.120Z"
   }
  ],
  "kernelspec": {
   "display_name": "Python 3",
   "language": "python",
   "name": "python3"
  },
  "language_info": {
   "codemirror_mode": {
    "name": "ipython",
    "version": 3
   },
   "file_extension": ".py",
   "mimetype": "text/x-python",
   "name": "python",
   "nbconvert_exporter": "python",
   "pygments_lexer": "ipython3",
   "version": "3.8.8"
  },
  "toc": {
   "base_numbering": 1,
   "nav_menu": {},
   "number_sections": true,
   "sideBar": true,
   "skip_h1_title": true,
   "title_cell": "Table of Contents",
   "title_sidebar": "Contents",
   "toc_cell": false,
   "toc_position": {},
   "toc_section_display": true,
   "toc_window_display": false
  }
 },
 "nbformat": 4,
 "nbformat_minor": 5
}
